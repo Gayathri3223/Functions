{
 "cells": [
  {
   "cell_type": "markdown",
   "id": "50843c79",
   "metadata": {},
   "source": [
    "## lambda fuction--> python lambda fuction is anonymous fuction without a function name but we can write a logic"
   ]
  },
  {
   "cell_type": "code",
   "execution_count": 2,
   "id": "c0b4e550",
   "metadata": {},
   "outputs": [
    {
     "name": "stdout",
     "output_type": "stream",
     "text": [
      "3\n"
     ]
    }
   ],
   "source": [
    "## Normal Technique\n",
    "a=1\n",
    "b=2\n",
    "print(a+b)"
   ]
  },
  {
   "cell_type": "code",
   "execution_count": 3,
   "id": "6a0f52db",
   "metadata": {},
   "outputs": [
    {
     "name": "stdout",
     "output_type": "stream",
     "text": [
      "The value is =  3\n"
     ]
    }
   ],
   "source": [
    "## fuction\n",
    "def fun(x,y):\n",
    "    return x+y\n",
    "a=1\n",
    "b=2\n",
    "print('The value is = ',fun(a,b))"
   ]
  },
  {
   "cell_type": "code",
   "execution_count": 4,
   "id": "da6942bf",
   "metadata": {},
   "outputs": [
    {
     "name": "stdout",
     "output_type": "stream",
     "text": [
      "The sum =  3\n"
     ]
    }
   ],
   "source": [
    "## lambda fuction\n",
    "a=1\n",
    "b=2\n",
    "c=lambda x,y:a+b\n",
    "print('The sum = ',c(a,b))"
   ]
  },
  {
   "cell_type": "code",
   "execution_count": 5,
   "id": "320e0441",
   "metadata": {},
   "outputs": [
    {
     "name": "stdout",
     "output_type": "stream",
     "text": [
      "The sum of value = 3\n"
     ]
    }
   ],
   "source": [
    "a=1\n",
    "b=2\n",
    "c= lambda x,y:a+b\n",
    "print(\"The sum of value =\",c(a,b))"
   ]
  },
  {
   "cell_type": "code",
   "execution_count": 6,
   "id": "711399f4",
   "metadata": {},
   "outputs": [
    {
     "name": "stdout",
     "output_type": "stream",
     "text": [
      "The value is =  130\n"
     ]
    }
   ],
   "source": [
    "a=30\n",
    "c=lambda x:a+100\n",
    "print('The value is = ',c(a))"
   ]
  },
  {
   "cell_type": "code",
   "execution_count": 7,
   "id": "f961e810",
   "metadata": {},
   "outputs": [
    {
     "name": "stdout",
     "output_type": "stream",
     "text": [
      "The sum of value =  180\n"
     ]
    }
   ],
   "source": [
    "a=30\n",
    "c=lambda x:a+150\n",
    "print('The sum of value = ',c(a))"
   ]
  },
  {
   "cell_type": "code",
   "execution_count": 8,
   "id": "7d764916",
   "metadata": {},
   "outputs": [
    {
     "name": "stdout",
     "output_type": "stream",
     "text": [
      "The value remainig =  32300\n"
     ]
    }
   ],
   "source": [
    "a=190\n",
    "c=lambda x:a*170\n",
    "print('The value remainig = ',c(a))"
   ]
  },
  {
   "cell_type": "code",
   "execution_count": 9,
   "id": "7811e36f",
   "metadata": {},
   "outputs": [
    {
     "name": "stdout",
     "output_type": "stream",
     "text": [
      "Enter any number=5\n",
      "5 * 1 = 5\n",
      "5 * 2 = 10\n",
      "5 * 3 = 15\n",
      "5 * 4 = 20\n",
      "5 * 5 = 25\n",
      "5 * 6 = 30\n",
      "5 * 7 = 35\n",
      "5 * 8 = 40\n",
      "5 * 9 = 45\n",
      "5 * 10 = 50\n"
     ]
    }
   ],
   "source": [
    "## print Table\n",
    "n= int(input('Enter any number='))\n",
    "for i in range(1,11):\n",
    "    print(n,'*',i,'=',(n*i))"
   ]
  },
  {
   "cell_type": "code",
   "execution_count": 10,
   "id": "a522350d",
   "metadata": {},
   "outputs": [
    {
     "name": "stdout",
     "output_type": "stream",
     "text": [
      "Enter any number =3\n",
      "3 * 1 = 3\n",
      "3 * 2 = 6\n",
      "3 * 3 = 9\n",
      "3 * 4 = 12\n",
      "3 * 5 = 15\n",
      "3 * 6 = 18\n",
      "3 * 7 = 21\n",
      "3 * 8 = 24\n",
      "3 * 9 = 27\n",
      "3 * 10 = 30\n",
      "3 * 11 = 33\n",
      "3 * 12 = 36\n",
      "3 * 13 = 39\n",
      "3 * 14 = 42\n",
      "3 * 15 = 45\n",
      "3 * 16 = 48\n",
      "3 * 17 = 51\n"
     ]
    }
   ],
   "source": [
    "n=int(input('Enter any number ='))\n",
    "for i in range(1,18):\n",
    "    print(n,'*',i,'=',(n*i))"
   ]
  },
  {
   "cell_type": "code",
   "execution_count": 11,
   "id": "aed585e9",
   "metadata": {},
   "outputs": [
    {
     "name": "stdout",
     "output_type": "stream",
     "text": [
      "enter any number =4\n",
      "4 * = 4\n",
      "4 * = 8\n",
      "4 * = 12\n",
      "4 * = 16\n",
      "4 * = 20\n",
      "4 * = 24\n",
      "4 * = 28\n",
      "4 * = 32\n",
      "4 * = 36\n",
      "4 * = 40\n",
      "4 * = 44\n",
      "4 * = 48\n",
      "4 * = 52\n",
      "4 * = 56\n",
      "4 * = 60\n",
      "4 * = 64\n",
      "4 * = 68\n",
      "4 * = 72\n",
      "4 * = 76\n",
      "4 * = 80\n",
      "4 * = 84\n",
      "4 * = 88\n",
      "4 * = 92\n",
      "4 * = 96\n"
     ]
    }
   ],
   "source": [
    "n=int(input('enter any number ='))\n",
    "for i in range(1,25):\n",
    "    print(n,'*','=',(n*i))"
   ]
  },
  {
   "cell_type": "code",
   "execution_count": 12,
   "id": "6dbeed3b",
   "metadata": {},
   "outputs": [
    {
     "name": "stdout",
     "output_type": "stream",
     "text": [
      "Enter any value = 9\n",
      "9 * 1 = 9\n",
      "9 * 2 = 18\n",
      "9 * 3 = 27\n",
      "9 * 4 = 36\n",
      "9 * 5 = 45\n",
      "9 * 6 = 54\n",
      "9 * 7 = 63\n",
      "9 * 8 = 72\n",
      "9 * 9 = 81\n",
      "9 * 10 = 90\n"
     ]
    }
   ],
   "source": [
    "## Table with lambda fuction\n",
    "n=int(input('Enter any value = '))\n",
    "c= lambda x ,y:n * i\n",
    "for i in range (1,11):\n",
    "    print(n,'*',i,'=',c(n,i))\n",
    "#print(c)"
   ]
  },
  {
   "cell_type": "code",
   "execution_count": 13,
   "id": "69afd630",
   "metadata": {},
   "outputs": [
    {
     "name": "stdout",
     "output_type": "stream",
     "text": [
      "Enter a number = 5\n",
      "5 * 1 = 5\n",
      "5 * 2 = 10\n",
      "5 * 3 = 15\n",
      "5 * 4 = 20\n",
      "5 * 5 = 25\n",
      "5 * 6 = 30\n",
      "5 * 7 = 35\n",
      "5 * 8 = 40\n",
      "5 * 9 = 45\n",
      "5 * 10 = 50\n"
     ]
    }
   ],
   "source": [
    "n = int(input(\"Enter a number = \"))\n",
    "c = lambda x , y : n * i \n",
    "for i in range(1,11):\n",
    "    print(n ,'*',i,'=', c(n,i))\n",
    "#print(c)"
   ]
  },
  {
   "cell_type": "code",
   "execution_count": 14,
   "id": "92c22ec6",
   "metadata": {},
   "outputs": [
    {
     "name": "stdout",
     "output_type": "stream",
     "text": [
      "Enter any value is = 7\n",
      "7 * 1 = 7\n",
      "7 * 2 = 14\n",
      "7 * 3 = 21\n",
      "7 * 4 = 28\n",
      "7 * 5 = 35\n",
      "7 * 6 = 42\n",
      "7 * 7 = 49\n",
      "7 * 8 = 56\n",
      "7 * 9 = 63\n",
      "7 * 10 = 70\n",
      "7 * 11 = 77\n",
      "7 * 12 = 84\n",
      "7 * 13 = 91\n",
      "7 * 14 = 98\n",
      "7 * 15 = 105\n",
      "7 * 16 = 112\n",
      "7 * 17 = 119\n"
     ]
    }
   ],
   "source": [
    "n=int(input('Enter any value is = '))\n",
    "c= lambda x,y : n*i\n",
    "for i in range(1,18):\n",
    "    print(n,'*',i,'=',c(n,i))"
   ]
  },
  {
   "cell_type": "markdown",
   "id": "6043ce7b",
   "metadata": {},
   "source": [
    "## map fuction---> map function can execute values with iterations without writing a logic \n",
    "# ---> syntax (fuction.iterables)"
   ]
  },
  {
   "cell_type": "code",
   "execution_count": 16,
   "id": "cf779527",
   "metadata": {},
   "outputs": [
    {
     "name": "stdout",
     "output_type": "stream",
     "text": [
      "The Number 10 is Even \n",
      "['The Number 1 is Odd ', 'The Number 2 is Even ', 'The Number 3 is Odd ', 'The Number 4 is Even ', 'The Number 5 is Odd ', 'The Number 6 is Even ', 'The Number 7 is Odd ', 'The Number 8 is Even ', 'The Number 9 is Odd ', 'The Number 10 is Even ']\n"
     ]
    }
   ],
   "source": [
    "# fuction\n",
    "def fun(b):\n",
    "    if b%2==0:\n",
    "        return 'The Number {} is Even '.format(b)\n",
    "    else:\n",
    "        return 'The Number {} is Odd '.format(b)\n",
    "a=[1,2,3,4,5,6,7,8,9,10]\n",
    "c=[]\n",
    "for i in a:\n",
    "    sol=fun(i)\n",
    "    c.append(sol)\n",
    "print(sol)\n",
    "print(c)"
   ]
  },
  {
   "cell_type": "code",
   "execution_count": 17,
   "id": "c240d974",
   "metadata": {},
   "outputs": [
    {
     "name": "stdout",
     "output_type": "stream",
     "text": [
      "['The Number 1 is Odd ', 'The Number2 is Even ', 'The Number 3 is Odd ', 'The Number4 is Even ', 'The Number 5 is Odd ', 'The Number6 is Even ', 'The Number 7 is Odd ', 'The Number8 is Even ', 'The Number 9 is Odd ', 'The Number10 is Even ']\n"
     ]
    }
   ],
   "source": [
    "def fun(b):\n",
    "    if b%2==0:\n",
    "        return 'The Number{} is Even '.format(b)\n",
    "    else:\n",
    "        return 'The Number {} is Odd '.format(b)\n",
    "a=[1,2,3,4,5,6,7,8,9,10]\n",
    "c=[]\n",
    "for i in a:\n",
    "    sol=fun(i)\n",
    "    c.append(sol)\n",
    "#print(sol)\n",
    "print(c)"
   ]
  },
  {
   "cell_type": "code",
   "execution_count": 18,
   "id": "8d566f90",
   "metadata": {},
   "outputs": [
    {
     "name": "stdout",
     "output_type": "stream",
     "text": [
      "['The Number1 is Odd ', 'The Nunber2 is Even ', 'The Number3 is Odd ', 'The Nunber4 is Even ', 'The Number5 is Odd ', 'The Nunber6 is Even ', 'The Number7 is Odd ', 'The Nunber8 is Even ', 'The Number9 is Odd ', 'The Nunber10 is Even ']\n"
     ]
    }
   ],
   "source": [
    "## Map\n",
    "def fun(b):\n",
    "    if b%2==0:\n",
    "        return \"The Nunber{} is Even \".format(b)\n",
    "    else:\n",
    "        return \"The Number{} is Odd \".format(b)\n",
    "a=[1,2,3,4,5,6,7,8,9,10]\n",
    "n=map(fun,a)\n",
    "print(list(n))"
   ]
  },
  {
   "cell_type": "code",
   "execution_count": 19,
   "id": "2f7e3ed6",
   "metadata": {},
   "outputs": [
    {
     "name": "stdout",
     "output_type": "stream",
     "text": [
      "1\n",
      "4\n",
      "9\n",
      "16\n"
     ]
    }
   ],
   "source": [
    "def square(b):\n",
    "    return b*b\n",
    "a=[1,2,3,4]\n",
    "for i in a:\n",
    "    sol=square(i)\n",
    "    print(sol)"
   ]
  },
  {
   "cell_type": "code",
   "execution_count": 20,
   "id": "b9870aa8",
   "metadata": {},
   "outputs": [
    {
     "name": "stdout",
     "output_type": "stream",
     "text": [
      "[1, 4, 9, 16]\n"
     ]
    }
   ],
   "source": [
    "def square (b):\n",
    "    return b*b\n",
    "a=[1,2,3,4]\n",
    "n=list(map(square,a))\n",
    "print(n)"
   ]
  },
  {
   "cell_type": "code",
   "execution_count": 21,
   "id": "a27f3130",
   "metadata": {},
   "outputs": [
    {
     "name": "stdout",
     "output_type": "stream",
     "text": [
      "[1, 4, 9, 16]\n"
     ]
    }
   ],
   "source": [
    "def square(b):\n",
    "    return b*b\n",
    "#a=[1,2,3.4]\n",
    "n=list(map(square,(1,2,3,4)))\n",
    "print(n)"
   ]
  },
  {
   "cell_type": "code",
   "execution_count": 22,
   "id": "0a726c3b",
   "metadata": {},
   "outputs": [
    {
     "name": "stdout",
     "output_type": "stream",
     "text": [
      "[11, 12, 13, 14]\n"
     ]
    }
   ],
   "source": [
    "a=[1,2,3,4]\n",
    "n=list(map(lambda x: x+10,a))\n",
    "print(n)"
   ]
  },
  {
   "cell_type": "code",
   "execution_count": 23,
   "id": "ba763833",
   "metadata": {},
   "outputs": [
    {
     "name": "stdout",
     "output_type": "stream",
     "text": [
      "[11, 12, 13, 14]\n"
     ]
    }
   ],
   "source": [
    "a=[1,2,3,4]\n",
    "n=list(map(lambda x: x+10,a))\n",
    "print(n)"
   ]
  },
  {
   "cell_type": "code",
   "execution_count": 24,
   "id": "b20c69fa",
   "metadata": {},
   "outputs": [
    {
     "name": "stdout",
     "output_type": "stream",
     "text": [
      "[11, 13, 15, 17]\n"
     ]
    }
   ],
   "source": [
    "a=[1,2,3,4]\n",
    "b=[10,11,12,13]\n",
    "n=list(map(lambda x,y: x+y,a,b))\n",
    "print(n)"
   ]
  },
  {
   "cell_type": "code",
   "execution_count": 25,
   "id": "de31613c",
   "metadata": {},
   "outputs": [
    {
     "name": "stdout",
     "output_type": "stream",
     "text": [
      "[11, 13, 15, 17]\n"
     ]
    }
   ],
   "source": [
    "a=[1,2,3,4]\n",
    "b=[10,11,12,13]\n",
    "n=list(map(lambda x,y: x+y,a,b))\n",
    "print(n)"
   ]
  },
  {
   "cell_type": "markdown",
   "id": "853455e0",
   "metadata": {},
   "source": [
    "## Filter function---> Creates an output list,tuple which contains values for which the fuction i true "
   ]
  },
  {
   "cell_type": "code",
   "execution_count": 27,
   "id": "af034b93",
   "metadata": {},
   "outputs": [
    {
     "name": "stdout",
     "output_type": "stream",
     "text": [
      "2\n",
      "3\n",
      "4\n"
     ]
    }
   ],
   "source": [
    "# function\n",
    "def Anil(b):\n",
    "    for i in b:\n",
    "        if i >=2:\n",
    "            print(i)\n",
    "a=[1,2,3,4]\n",
    "Anil(a)"
   ]
  },
  {
   "cell_type": "code",
   "execution_count": 28,
   "id": "8b769ddf",
   "metadata": {},
   "outputs": [
    {
     "name": "stdout",
     "output_type": "stream",
     "text": [
      "2\n",
      "3\n",
      "4\n"
     ]
    }
   ],
   "source": [
    "def Anil(b):\n",
    "    for i in b:\n",
    "        if i >=2:\n",
    "            print(i)\n",
    "a=[1,2,3,4]\n",
    "Anil(a)"
   ]
  },
  {
   "cell_type": "code",
   "execution_count": 29,
   "id": "cf9dc147",
   "metadata": {},
   "outputs": [
    {
     "name": "stdout",
     "output_type": "stream",
     "text": [
      "[None, 2, 3, 4]\n"
     ]
    }
   ],
   "source": [
    "# Map function\n",
    "def kamal(b):\n",
    "        if b >= 2:\n",
    "            return b\n",
    "    \n",
    "a = [1,2,3,4]\n",
    "n = list(map(kamal , a))\n",
    "print(n)"
   ]
  },
  {
   "cell_type": "code",
   "execution_count": 30,
   "id": "4ad3de9b",
   "metadata": {},
   "outputs": [
    {
     "name": "stdout",
     "output_type": "stream",
     "text": [
      "[None, 2, 3, 4]\n"
     ]
    }
   ],
   "source": [
    "def kamal(b):\n",
    "    if b>=2:\n",
    "        return b\n",
    "a=[1,2,3,4]\n",
    "n=list(map(kamal,a))\n",
    "print(n)"
   ]
  },
  {
   "cell_type": "code",
   "execution_count": 31,
   "id": "125ec882",
   "metadata": {},
   "outputs": [
    {
     "name": "stdout",
     "output_type": "stream",
     "text": [
      "[2, 3, 4]\n"
     ]
    }
   ],
   "source": [
    "# filter\n",
    "def Anil(b):\n",
    "    if b>=2:\n",
    "        return b\n",
    "a=[1,2,3,4]\n",
    "n=list(filter(Anil,a))\n",
    "print(n)"
   ]
  },
  {
   "cell_type": "code",
   "execution_count": 32,
   "id": "af3a5d81",
   "metadata": {},
   "outputs": [
    {
     "name": "stdout",
     "output_type": "stream",
     "text": [
      "[2, 3, 4]\n"
     ]
    }
   ],
   "source": [
    "def Anil(b):\n",
    "    if b>=2:\n",
    "        return b\n",
    "a=[1,2,3,4]\n",
    "n=list(filter(Anil,a))\n",
    "print(n)"
   ]
  },
  {
   "cell_type": "code",
   "execution_count": 33,
   "id": "595ca182",
   "metadata": {},
   "outputs": [
    {
     "name": "stdout",
     "output_type": "stream",
     "text": [
      "[2, 4, 6, 8, 10]\n"
     ]
    }
   ],
   "source": [
    "a=list(filter(lambda x: x%2==0,[1,2,3,4,5,6,7,8,9,10]))\n",
    "print(a)"
   ]
  },
  {
   "cell_type": "markdown",
   "id": "fc241d3b",
   "metadata": {},
   "source": [
    "## Reduce fuction--> from funtools import reduce"
   ]
  },
  {
   "cell_type": "code",
   "execution_count": 35,
   "id": "dd4b2f44",
   "metadata": {},
   "outputs": [],
   "source": [
    "from functools import reduce"
   ]
  },
  {
   "cell_type": "code",
   "execution_count": 36,
   "id": "7ac96f87",
   "metadata": {},
   "outputs": [
    {
     "data": {
      "text/plain": [
       "120"
      ]
     },
     "execution_count": 36,
     "metadata": {},
     "output_type": "execute_result"
    }
   ],
   "source": [
    "a = reduce(lambda x,y:x*y,[1,2,3,4,5])\n",
    "a"
   ]
  },
  {
   "cell_type": "code",
   "execution_count": 37,
   "id": "ca7ff8a6",
   "metadata": {},
   "outputs": [
    {
     "name": "stdout",
     "output_type": "stream",
     "text": [
      "[6]\n"
     ]
    }
   ],
   "source": [
    "## filter \n",
    "a=[1,2,3]\n",
    "b=list(map(lambda x : x+3, filter(lambda x: x>2, a)))\n",
    "print(b)"
   ]
  },
  {
   "cell_type": "code",
   "execution_count": 38,
   "id": "41666049",
   "metadata": {},
   "outputs": [
    {
     "name": "stdout",
     "output_type": "stream",
     "text": [
      "[6]\n"
     ]
    }
   ],
   "source": [
    "a = [1,2,3]\n",
    "b = list(map(lambda x : x + 3 , filter(lambda x : x>2 , a)))\n",
    "print(b)"
   ]
  },
  {
   "cell_type": "code",
   "execution_count": 39,
   "id": "4a0479a3",
   "metadata": {},
   "outputs": [
    {
     "name": "stdout",
     "output_type": "stream",
     "text": [
      "[10, 12, 14]\n"
     ]
    }
   ],
   "source": [
    "## Map with filter\n",
    "a=[8,9,10,11,12]\n",
    "b=list(filter(lambda x: x%2==0,map(lambda x: x+2 ,a)))\n",
    "print(b)"
   ]
  },
  {
   "cell_type": "code",
   "execution_count": 40,
   "id": "27308cf2",
   "metadata": {},
   "outputs": [
    {
     "name": "stdout",
     "output_type": "stream",
     "text": [
      "[10, 12, 14]\n"
     ]
    }
   ],
   "source": [
    "a=[8,9,10,11,12]\n",
    "b=list(filter(lambda x: x%2==0, map(lambda x: x+2, a)))\n",
    "print(b)"
   ]
  },
  {
   "cell_type": "code",
   "execution_count": 41,
   "id": "e7734501",
   "metadata": {},
   "outputs": [],
   "source": [
    "from functools import reduce"
   ]
  },
  {
   "cell_type": "code",
   "execution_count": 42,
   "id": "db345d68",
   "metadata": {
    "scrolled": false
   },
   "outputs": [
    {
     "name": "stdout",
     "output_type": "stream",
     "text": [
      "10\n"
     ]
    }
   ],
   "source": [
    "## Map and filter reduce\n",
    "a = reduce(lambda x,y: x+y, map(lambda x: x+2,filter(lambda x : x%2==0, [1,2,3,4,5])))\n",
    "print(a)"
   ]
  },
  {
   "cell_type": "code",
   "execution_count": null,
   "id": "eddfe928",
   "metadata": {},
   "outputs": [],
   "source": []
  }
 ],
 "metadata": {
  "kernelspec": {
   "display_name": "Python 3",
   "language": "python",
   "name": "python3"
  },
  "language_info": {
   "codemirror_mode": {
    "name": "ipython",
    "version": 3
   },
   "file_extension": ".py",
   "mimetype": "text/x-python",
   "name": "python",
   "nbconvert_exporter": "python",
   "pygments_lexer": "ipython3",
   "version": "3.8.8"
  }
 },
 "nbformat": 4,
 "nbformat_minor": 5
}
